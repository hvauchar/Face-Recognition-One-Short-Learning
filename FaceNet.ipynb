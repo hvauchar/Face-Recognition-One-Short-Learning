{
 "cells": [
  {
   "cell_type": "code",
   "execution_count": 1,
   "metadata": {},
   "outputs": [
    {
     "name": "stderr",
     "output_type": "stream",
     "text": [
      "Using TensorFlow backend.\n"
     ]
    }
   ],
   "source": [
    "from keras.models import Sequential\n",
    "from keras.layers import Conv2D, ZeroPadding2D, Activation, Input, concatenate\n",
    "from keras.models import Model\n",
    "from keras.layers.normalization import BatchNormalization\n",
    "from keras.layers.pooling import MaxPooling2D, AveragePooling2D\n",
    "from keras.layers.merge import Concatenate\n",
    "from keras.layers.core import Lambda, Flatten, Dense\n",
    "from keras.initializers import glorot_uniform\n",
    "from keras.engine.topology import Layer\n",
    "from keras import backend as K\n",
    "K.set_image_data_format('channels_first')\n",
    "import cv2\n",
    "import os\n",
    "import numpy as np\n",
    "from numpy import genfromtxt\n",
    "import pandas as pd\n",
    "import tensorflow as tf\n",
    "from fr_utils import *\n",
    "from inception_blocks_v2 import *\n",
    "\n",
    "%matplotlib inline\n",
    "%reload_ext autoreload\n",
    "%autoreload 2\n",
    "\n",
    "# np.set_printoptions(threshold=np.nan)"
   ]
  },
  {
   "cell_type": "code",
   "execution_count": 2,
   "metadata": {},
   "outputs": [
    {
     "name": "stderr",
     "output_type": "stream",
     "text": [
      "WARNING: Logging before flag parsing goes to stderr.\n",
      "W0102 19:45:33.360691  2000 deprecation_wrapper.py:119] From C:\\Users\\hrithik chinu\\Miniconda3\\lib\\site-packages\\keras\\backend\\tensorflow_backend.py:74: The name tf.get_default_graph is deprecated. Please use tf.compat.v1.get_default_graph instead.\n",
      "\n",
      "W0102 19:45:34.345257  2000 deprecation_wrapper.py:119] From C:\\Users\\hrithik chinu\\Miniconda3\\lib\\site-packages\\keras\\backend\\tensorflow_backend.py:517: The name tf.placeholder is deprecated. Please use tf.compat.v1.placeholder instead.\n",
      "\n",
      "W0102 19:45:35.297383  2000 deprecation_wrapper.py:119] From C:\\Users\\hrithik chinu\\Miniconda3\\lib\\site-packages\\keras\\backend\\tensorflow_backend.py:4138: The name tf.random_uniform is deprecated. Please use tf.random.uniform instead.\n",
      "\n",
      "W0102 19:45:35.565299  2000 deprecation_wrapper.py:119] From C:\\Users\\hrithik chinu\\Miniconda3\\lib\\site-packages\\keras\\backend\\tensorflow_backend.py:174: The name tf.get_default_session is deprecated. Please use tf.compat.v1.get_default_session instead.\n",
      "\n",
      "W0102 19:45:35.569292  2000 deprecation_wrapper.py:119] From C:\\Users\\hrithik chinu\\Miniconda3\\lib\\site-packages\\keras\\backend\\tensorflow_backend.py:181: The name tf.ConfigProto is deprecated. Please use tf.compat.v1.ConfigProto instead.\n",
      "\n",
      "W0102 19:45:39.684326  2000 deprecation_wrapper.py:119] From C:\\Users\\hrithik chinu\\Miniconda3\\lib\\site-packages\\keras\\backend\\tensorflow_backend.py:3976: The name tf.nn.max_pool is deprecated. Please use tf.nn.max_pool2d instead.\n",
      "\n",
      "W0102 19:45:47.184794  2000 deprecation_wrapper.py:119] From C:\\Users\\hrithik chinu\\Miniconda3\\lib\\site-packages\\keras\\backend\\tensorflow_backend.py:3980: The name tf.nn.avg_pool is deprecated. Please use tf.nn.avg_pool2d instead.\n",
      "\n"
     ]
    },
    {
     "name": "stdout",
     "output_type": "stream",
     "text": [
      "Total Params: 3743280\n"
     ]
    },
    {
     "name": "stderr",
     "output_type": "stream",
     "text": [
      "W0102 19:46:04.820718  2000 deprecation_wrapper.py:119] From C:\\Users\\hrithik chinu\\Miniconda3\\lib\\site-packages\\keras\\optimizers.py:790: The name tf.train.Optimizer is deprecated. Please use tf.compat.v1.train.Optimizer instead.\n",
      "\n"
     ]
    },
    {
     "name": "stdout",
     "output_type": "stream",
     "text": [
      "loss = 350.02637\n"
     ]
    }
   ],
   "source": [
    "FRmodel = faceRecoModel(input_shape=(3, 96, 96))\n",
    "print(\"Total Params:\", FRmodel.count_params())\n",
    "def triplet_loss(y_true, y_pred, alpha = 0.2):\n",
    "    anchor, positive, negative = y_pred[0], y_pred[1], y_pred[2]\n",
    "    pos_dist = tf.square(anchor-positive)\n",
    "    neg_dist = tf.square(anchor-negative)\n",
    "    basic_loss = tf.reduce_sum(pos_dist-neg_dist)+alpha\n",
    "    loss = tf.reduce_sum(tf.maximum(basic_loss,0.))\n",
    "    return loss\n",
    "with tf.Session() as test:\n",
    "    tf.set_random_seed(1)\n",
    "    y_true = (None, None, None)\n",
    "    y_pred = (tf.random_normal([3, 128], mean=6, stddev=0.1, seed = 1),\n",
    "              tf.random_normal([3, 128], mean=1, stddev=1, seed = 1),\n",
    "              tf.random_normal([3, 128], mean=3, stddev=4, seed = 1))\n",
    "    loss = triplet_loss(y_true, y_pred)\n",
    "    print(\"loss = \" + str(loss.eval()))\n",
    "FRmodel.compile(optimizer = 'adam', loss = triplet_loss, metrics = ['accuracy'])\n",
    "load_weights_from_FaceNet(FRmodel)"
   ]
  },
  {
   "cell_type": "code",
   "execution_count": 3,
   "metadata": {},
   "outputs": [],
   "source": [
    "database = {}\n",
    "database[\"cardi\"] = img_to_encoding(\"images/girl_like_u/crop/cardi.jpg\", FRmodel)\n",
    "database[\"ellen\"] = img_to_encoding(\"images/girl_like_u/crop/ellen.jpg\", FRmodel)\n",
    "database[\"adam\"] = img_to_encoding(\"images/girl_like_u/crop/adam.jpg\", FRmodel)\n",
    "database[\"camila\"] = img_to_encoding(\"images/girl_like_u/crop/camila.jpg\", FRmodel)\n",
    "database[\"jennifer_lopez\"] = img_to_encoding(\"images/girl_like_u/crop/jennifer_lopez.jpg\", FRmodel)\n",
    "database[\"Gal\"] = img_to_encoding(\"images/girl_like_u/crop/Gal.jpg\", FRmodel)\n",
    "database[\"Aly Raisman\"] = img_to_encoding(\"images/girl_like_u/crop/Aly_Raisman.jpg\", FRmodel)"
   ]
  },
  {
   "cell_type": "code",
   "execution_count": null,
   "metadata": {},
   "outputs": [],
   "source": [
    "def cropFace(path,name):\n",
    "    img = cv2.imread(path)\n",
    "    gray = cv2.cvtColor(img, cv2.COLOR_BGR2GRAY)\n",
    "    face = face_cascade.detectMultiScale(gray)\n",
    "    for (x,y,w,h) in face:\n",
    "        cv2.rectangle(img, (x,y), (x+w, y+h), (255, 0, 0), 2)\n",
    "        roi_gray = gray[y:y+h, x:x+w]\n",
    "        roi_color = img[y:y+h, x:x+w]\n",
    "        cv2.putText(img = img, text = 'HEY HRITHIK!!!', org = (x+w, y+h), fontFace = cv2.FONT_HERSHEY_DUPLEX, fontScale = 0.5, \n",
    "                color = (0, 0, 255))\n",
    "    cv2.imshow('face_detect_hrithik', roi_color)\n",
    "    cv2.imwrite(name, roi_color)\n",
    "    cv2.waitKey(0)\n",
    "    cv2.destroyAllWindows()\n",
    "    plt.imshow(roi_gray, cmap='gray', interpolation='bicubic')\n",
    "    plt.show()"
   ]
  },
  {
   "cell_type": "code",
   "execution_count": 5,
   "metadata": {},
   "outputs": [],
   "source": [
    "def who_is_it_live(image_path, database, model):\n",
    "    encoding = img_to_encoding_ip_array(image_path, model)\n",
    "    min_dist = 100\n",
    "    for (name, db_enc) in database.items():\n",
    "        dist = np.linalg.norm(encoding-database[name])\n",
    "        if dist<min_dist:\n",
    "            min_dist = dist\n",
    "            identity = name\n",
    "    if min_dist > 0.65:\n",
    "#         print(\"Not in the database.\")\n",
    "        identity = 'Not present in DB'\n",
    "#      else:\n",
    "#         print (\"it's \" + str(identity) + \", the distance is \" + str(min_dist))\n",
    "        \n",
    "    return min_dist, identity"
   ]
  },
  {
   "cell_type": "code",
   "execution_count": 7,
   "metadata": {},
   "outputs": [],
   "source": [
    "cap = cv2.VideoCapture('images/girl_like_u/trim/adam.mp4')\n",
    "face_cascade = cv2.CascadeClassifier('haarcascade_frontalface_default.xml')\n",
    "while(True):\n",
    "    try:\n",
    "        \n",
    "        ret, img = cap.read()\n",
    "        gray = cv2.cvtColor(img, cv2.COLOR_BGR2GRAY)\n",
    "        face = face_cascade.detectMultiScale(gray)\n",
    "        for (x,y,w,h) in face:\n",
    "            roi_gray = gray[y:y+h, x:x+w]\n",
    "            roi_color = img[y:y+h, x:x+w]\n",
    "            dist, name = who_is_it_live(roi_color, database, FRmodel)\n",
    "            if(name != 'Not present in DB'):\n",
    "                cv2.rectangle(img, (x,y), (x+w, y+h), (255, 0, 0), 2)\n",
    "                cv2.putText(img = img, text = name+'{'+str(dist)+'}', org = (x+w, y+h), fontFace = cv2.FONT_HERSHEY_DUPLEX, fontScale = 1, color = (0, 255, 0), thickness=2)\n",
    "        cv2.imshow('face_detectection', img)\n",
    "        if cv2.waitKey(1) & 0xFF == ord('q'):\n",
    "            break\n",
    "    except Exception as e:\n",
    "        print(e)\n",
    "        break\n",
    "cap.release()\n",
    "cv2.destroyAllWindows()"
   ]
  }
 ],
 "metadata": {
  "kernelspec": {
   "display_name": "Python 3",
   "language": "python",
   "name": "python3"
  },
  "language_info": {
   "codemirror_mode": {
    "name": "ipython",
    "version": 3
   },
   "file_extension": ".py",
   "mimetype": "text/x-python",
   "name": "python",
   "nbconvert_exporter": "python",
   "pygments_lexer": "ipython3",
   "version": "3.7.3"
  }
 },
 "nbformat": 4,
 "nbformat_minor": 2
}
